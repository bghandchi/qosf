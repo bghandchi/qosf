{
 "cells": [
  {
   "cell_type": "markdown",
   "metadata": {},
   "source": [
    "# Task 2\n",
    "\n",
    "Requirements:\n",
    "```\n",
    "qiskit\n",
    "numpy\n",
    "matplotlib\n",
    "```"
   ]
  },
  {
   "cell_type": "code",
   "execution_count": 1,
   "metadata": {},
   "outputs": [],
   "source": [
    "from qiskit import QuantumCircuit, execute, Aer\n",
    "import numpy as np\n",
    "import matplotlib.pyplot as plt\n",
    "backend = Aer.get_backend('qasm_simulator')\n",
    "from numpy.random import randint"
   ]
  },
  {
   "cell_type": "markdown",
   "metadata": {},
   "source": [
    "## Part 1, main task\n",
    "This task is a first step to learn the power of quantum error correction via bit and phase flip codes. The setting of this task however is very simple and does not actually show the power of the mentioned codes. For a detailed generalization of this experiment please refer to part 2."
   ]
  },
  {
   "cell_type": "markdown",
   "metadata": {},
   "source": [
    "### Analysis of the statevector\n",
    "\n",
    "The state vector right before CNOT gate is $\\psi_1=\\frac{1}{\\sqrt 2}(|00\\rangle+|10\\rangle)=|+\\rangle\\otimes|0\\rangle$. After CNOT it is $\\psi_2=\\frac{1}{\\sqrt 2}(|00\\rangle+|11\\rangle)$. The real power of quantum error correction is that it can correct arbitrary quantum errors. This property can not be shown and used if our only tool is just computational basis measurements. In fact for the Bell state in question, the state $\\frac{1}{\\sqrt 2}(|00\\rangle+e^{i\\theta}|11\\rangle)$ for any $\\theta$ will also return the same set of probabilities for measurement results. To see the difference we need more sophisticated tools like quantum state tomography. \n",
    "\n",
    "### Effect of Paulies on $\\psi_1$\n",
    "Again remember the effects are only studied based on the outcome probabilities after measurement, not the state vector.\n",
    "\n",
    "#### Claim: $Z$ and $X$ have no effect on first wire\n",
    "Proof: If we apply a Pauli $X$ or $Z$ on first wire the state vector right before CNOT is $|+\\rangle\\otimes|0\\rangle$ for $X$ and is $|-\\rangle\\otimes|0\\rangle$ for Z. Then the final state vector afte CNOT is $\\frac{1}{\\sqrt 2}(|00\\rangle+|11\\rangle)$ or $\\frac{1}{\\sqrt 2}(|00\\rangle-|11\\rangle)$ respectively. In both cases the probabilty of outcome is $50,50$ for $|00\\rangle$ and $|11\\rangle$ which is the same as Bell state.\n",
    "\n",
    "#### Claim: $Z$ has no effect on second wire\n",
    "Proof: As the circuit starts from $|0\\rangle$ and $|0\\rangle$ is a $+1$ eigenvector of $Z$, applying $Z$ on second wire will not change the state vector at all.\n",
    "\n",
    "#### Claim: A bit-flip code on second wire will correct any $Z$ and/or $X$ errors on both wires\n",
    "Proof: Trivial based on two claims above."
   ]
  },
  {
   "cell_type": "markdown",
   "metadata": {},
   "source": [
    "### Numerical experiment\n",
    "Based on discussion above the following circuit can detect and correct any arbitrary $Z$ and/or $X$ error right before CNOT."
   ]
  },
  {
   "cell_type": "code",
   "execution_count": 2,
   "metadata": {},
   "outputs": [],
   "source": [
    "# Helper functions to create code and decode parts of bit-flip code.\n",
    "# Arg \"zero\" is the index of starting position of bit-flip code.\n",
    "def bit_flip_before(qc, zero):\n",
    "    qc.cx(zero, zero+1)\n",
    "    qc.cx(zero, zero+2)\n",
    "    \n",
    "def bit_flip_after(qc, zero):\n",
    "    qc.cx(zero, zero+1)\n",
    "    qc.cx(zero, zero+2)\n",
    "    qc.ccx(zero+2, zero+1, zero)"
   ]
  },
  {
   "cell_type": "markdown",
   "metadata": {},
   "source": [
    "Any one qubit Pauli gate that goes between second and third barriers will be corrected."
   ]
  },
  {
   "cell_type": "code",
   "execution_count": 3,
   "metadata": {},
   "outputs": [
    {
     "data": {
      "image/png": "[encoded data removed]",
      "text/plain": [
       "<Figure size 929.397x325.08 with 1 Axes>"
      ]
     },
     "execution_count": 3,
     "metadata": {},
     "output_type": "execute_result"
    }
   ],
   "source": [
    "qc=QuantumCircuit(4, 2)\n",
    "qc.h(0)\n",
    "qc.barrier()\n",
    "bit_flip_before(qc, 1)\n",
    "# The error part\n",
    "qc.barrier()\n",
    "# You can put any Pauli on register 0 and any Pauli(just one) on registers 1,2 an 3.\n",
    "qc.y(0)\n",
    "qc.x(2)\n",
    "qc.barrier()\n",
    "bit_flip_after(qc, 1)\n",
    "qc.barrier()\n",
    "qc.cx(0, 1)\n",
    "qc.measure(0, 0)\n",
    "qc.measure(1, 1)\n",
    "qc.draw(\"mpl\")"
   ]
  },
  {
   "cell_type": "markdown",
   "metadata": {},
   "source": [
    "A simple test. Let's get the measurement results for this circuit."
   ]
  },
  {
   "cell_type": "code",
   "execution_count": 4,
   "metadata": {},
   "outputs": [
    {
     "data": {
      "text/plain": [
       "{'00': 510, '11': 490}"
      ]
     },
     "execution_count": 4,
     "metadata": {},
     "output_type": "execute_result"
    }
   ],
   "source": [
    "execute(qc, backend, shots=1000).result().get_counts()"
   ]
  },
  {
   "cell_type": "markdown",
   "metadata": {},
   "source": [
    "The following function gets the errors we want to simulate and calculate the probability of observing $|00\\rangle$."
   ]
  },
  {
   "cell_type": "code",
   "execution_count": 5,
   "metadata": {},
   "outputs": [],
   "source": [
    "def experiment(first,                # The error for first qubit. Must be in [\"x\", \"y\", \"z\"]\n",
    "               second,               # The error for secon qubit. Must be in [\"x\", \"y\", \"z\"]\n",
    "               position=1,           # Position of second qubit error on bit-flip code. Must be in range(1, 4)\n",
    "               print_counts=False,   # Prints the detailed info of experiment\n",
    "               draw=False,           # Draws the circuit\n",
    "               num_shots=1000):      # Number of shots per experiment\n",
    "\n",
    "    qc=QuantumCircuit(4, 2)\n",
    "    qc.h(0)\n",
    "    qc.barrier()\n",
    "    bit_flip_before(qc, 1)\n",
    "    qc.barrier()\n",
    "    \n",
    "    if first.upper() == \"X\":\n",
    "        qc.x(0)\n",
    "    elif first.upper() == \"Y\":\n",
    "        qc.y(0)\n",
    "    elif first.upper() == \"Z\":\n",
    "        qc.z(0)\n",
    "        \n",
    "    if second.upper() == \"X\":\n",
    "        qc.x(position)\n",
    "    elif second.upper() == \"Y\":\n",
    "        qc.y(position)\n",
    "    elif second.upper() == \"Z\":\n",
    "        qc.z(position)\n",
    "        \n",
    "    qc.barrier()\n",
    "    bit_flip_after(qc, 1)\n",
    "    qc.barrier()\n",
    "    qc.cx(0, 1)\n",
    "    qc.measure(0, 0)\n",
    "    qc.measure(1, 1)\n",
    "    \n",
    "    counts=execute(qc, backend, shots=num_shots).result().get_counts()\n",
    "    \n",
    "    #\n",
    "    # Auto checker to ensure only correct basis vectors \n",
    "    # are present in state vector.\n",
    "    #\n",
    "    if num_shots==1:\n",
    "        assert \"00\" in counts or \"11\" in counts\n",
    "    else:\n",
    "        assert \"00\" in counts\n",
    "        assert \"11\" in counts\n",
    "    assert not \"01\" in counts\n",
    "    assert not \"10\" in counts\n",
    "    \n",
    "    if draw:\n",
    "        display(qc.draw(\"mpl\"))\n",
    "        \n",
    "    if print_counts:\n",
    "        print(\"******************************\")\n",
    "        print_str=\"The measurement counts for {} on wire 0 and {} on wire {} is:\"\n",
    "        print(print_str.format(first.upper(), second.upper(), position))\n",
    "        print(counts)\n",
    "        print(\"******************************\")\n",
    "    #\n",
    "    # If number of shots is 1 the function returns the bit string of \n",
    "    # measurement outcome. If not it returns the probability of\n",
    "    # observing |00>\n",
    "    #\n",
    "    if num_shots==1:\n",
    "        return list(counts.keys())[0]\n",
    "    else:\n",
    "        return counts[\"00\"]/1000"
   ]
  },
  {
   "cell_type": "code",
   "execution_count": 6,
   "metadata": {},
   "outputs": [
    {
     "data": {
      "image/png": "[encoded data removed]",
      "text/plain": [
       "<Figure size 929.397x325.08 with 1 Axes>"
      ]
     },
     "metadata": {},
     "output_type": "display_data"
    },
    {
     "name": "stdout",
     "output_type": "stream",
     "text": [
      "******************************\n",
      "The measurement counts for Z on wire 0 and Y on wire 3 is:\n",
      "{'00': 496, '11': 504}\n",
      "******************************\n"
     ]
    },
    {
     "data": {
      "text/plain": [
       "0.496"
      ]
     },
     "execution_count": 6,
     "metadata": {},
     "output_type": "execute_result"
    }
   ],
   "source": [
    "experiment(\"z\", \"y\", 3, print_counts=True, draw=True)"
   ]
  },
  {
   "cell_type": "markdown",
   "metadata": {},
   "source": [
    "The final test consist of 40 different circuits created from different error scenarios. To simplify presenting the result, only the probability if $|00\\rangle$ will be plotted. The numbers should all be close to $0.5$. Remember inside the function we made sure that only $|00\\rangle$ and $|11\\rangle$ can be the outcome of measurement."
   ]
  },
  {
   "cell_type": "code",
   "execution_count": 7,
   "metadata": {},
   "outputs": [
    {
     "data": {
      "image/png": "[encoded data removed]",
      "text/plain": [
       "<Figure size 432x288 with 1 Axes>"
      ]
     },
     "metadata": {
      "needs_background": "light"
     },
     "output_type": "display_data"
    }
   ],
   "source": [
    "ket_00_probs=[]\n",
    "\n",
    "for first in [\"x\", \"y\", \"z\", \"i\"]:\n",
    "    ket_00_probs.append(experiment(first, \"i\"))\n",
    "    for second in [\"x\", \"y\", \"z\"]:\n",
    "        for position in range(1, 4):\n",
    "            ket_00_probs.append(experiment(first, second, position))\n",
    "\n",
    "fig1, ax1 = plt.subplots()\n",
    "ax1.set_title('|00> probabilities for 40 different experiments')\n",
    "ax1.boxplot(ket_00_probs, vert=False);"
   ]
  },
  {
   "cell_type": "markdown",
   "metadata": {},
   "source": [
    "As predicted the results are all close to $0.5$."
   ]
  },
  {
   "cell_type": "markdown",
   "metadata": {},
   "source": [
    "This, in theory should conclude the first part but to implement the exact same experiment the task requires here is the following code:\n"
   ]
  },
  {
   "cell_type": "code",
   "execution_count": 8,
   "metadata": {},
   "outputs": [
    {
     "data": {
      "text/plain": [
       "{'00': 467, '01': 0, '10': 0, '11': 533}"
      ]
     },
     "execution_count": 8,
     "metadata": {},
     "output_type": "execute_result"
    }
   ],
   "source": [
    "Total_num_shots=1000\n",
    "results = {\"00\":0, \"01\":0, \"10\":0, \"11\":0}\n",
    "paulies = [\"x\", \"y\", \"z\", \"i\"]\n",
    "\n",
    "for i in range(Total_num_shots):\n",
    "    cr = experiment(paulies[randint(4)], paulies[randint(4)], randint(3), num_shots=1)\n",
    "    results[cr] += 1\n",
    "    \n",
    "results"
   ]
  },
  {
   "cell_type": "markdown",
   "metadata": {},
   "source": [
    "As predicted the distribution is correct."
   ]
  },
  {
   "cell_type": "markdown",
   "metadata": {},
   "source": [
    "# Part 2: The Shor code\n",
    "As discussed above the previous experiment does not show the power of quantum error correction. Here is another, slightly more complicated experiment using Shor code for two qubits.\n",
    "* Prepare a random two qubit quantum state.\n",
    "* Caclulate the correct probabilities of computational basis measurements using state vector.\n",
    "* Initialize a qc with that state and measure the state.\n",
    "* Initialize another qc with same state and add two arbitrary random one qubit unitary and measue.\n",
    "* Initialize a third qc with same state encode each qubit with Shor code, add two random one qubit error unitary and measure.\n",
    "* Compare all the results."
   ]
  },
  {
   "cell_type": "markdown",
   "metadata": {},
   "source": [
    "In fact to be have a complete study we should do the measurement with all possible 15 Pauli tensor observables. But for simplicity we just do computational basis measurement."
   ]
  },
  {
   "cell_type": "code",
   "execution_count": 9,
   "metadata": {},
   "outputs": [],
   "source": [
    "#\n",
    "# Helper functions to create Shor code. Here we have a qc with 18 qubits and arg \"second\" \n",
    "# indicates which qubit are we encoding, first or second.\n",
    "#\n",
    "def shor_before(qc, second=False):\n",
    "    zero=second*9\n",
    "    qc.cx(zero, zero+3)\n",
    "    qc.cx(zero, zero+6)\n",
    "    qc.h(zero)\n",
    "    qc.h(zero+3)\n",
    "    qc.h(zero+6)\n",
    "    qc.cx(zero, zero+1)\n",
    "    qc.cx(zero, zero+2)\n",
    "    zero+=3\n",
    "    qc.cx(zero, zero+1)\n",
    "    qc.cx(zero, zero+2)\n",
    "    zero+=3\n",
    "    qc.cx(zero, zero+1)\n",
    "    qc.cx(zero, zero+2)\n",
    "    \n",
    "def shor_after(qc, second=False):\n",
    "    zero=second*9\n",
    "    qc.cx(zero, zero+1)\n",
    "    qc.cx(zero, zero+2)\n",
    "    qc.ccx(zero+2, zero+1, zero)\n",
    "    qc.h(zero)\n",
    "    zero+=3\n",
    "    qc.cx(zero, zero+1)\n",
    "    qc.cx(zero, zero+2)\n",
    "    qc.ccx(zero+2, zero+1, zero)\n",
    "    qc.h(zero)\n",
    "    zero+=3\n",
    "    qc.cx(zero, zero+1)\n",
    "    qc.cx(zero, zero+2)\n",
    "    qc.ccx(zero+2, zero+1, zero)\n",
    "    qc.h(zero)\n",
    "    zero=second*9\n",
    "    qc.cx(zero, zero+3)\n",
    "    qc.cx(zero, zero+6)\n",
    "    qc.ccx(zero+3, zero+6, zero)\n",
    "    \n",
    "def add_one_error(qc):\n",
    "    qc.u(*np.random.randn(3), np.random.randint(9))\n",
    "    qc.u(*np.random.randn(3), np.random.randint(9, 18))"
   ]
  },
  {
   "cell_type": "code",
   "execution_count": 10,
   "metadata": {},
   "outputs": [],
   "source": [
    "def experiment_part2(state, noise=False):\n",
    "    qc=QuantumCircuit(18, 2)\n",
    "    qc.initialize(state, [0, 9])\n",
    "    qc.barrier()\n",
    "    shor_before(qc)\n",
    "    shor_before(qc, second=True)\n",
    "    qc.barrier()\n",
    "    if noise:\n",
    "        add_one_error(qc)\n",
    "    qc.barrier()\n",
    "    shor_after(qc)\n",
    "    shor_after(qc, second=True)\n",
    "    qc.barrier()\n",
    "    qc.measure(0, 0)\n",
    "    qc.measure(9, 1)\n",
    "    #display(qc.draw(\"mpl\"))\n",
    "    res = execute(qc, backend, shots=1000).result().get_counts()\n",
    "    if noise:\n",
    "        print(\"Results: error gates:yes    correction:yes\")\n",
    "    else:\n",
    "        print(\"Results: error gates:no     correction:no\")\n",
    "    print(res)\n",
    "    \n",
    "def noise_no_correction(state):\n",
    "    qc=QuantumCircuit(2, 2)\n",
    "    qc.initialize(state, [0, 1])\n",
    "    qc.u(*np.random.randn(3), 0)\n",
    "    qc.u(*np.random.randn(3), 1)\n",
    "    qc.measure(0, 0)\n",
    "    qc.measure(1, 1)\n",
    "    res = execute(qc, backend, shots=1000).result().get_counts()\n",
    "    print(\"Results: error gates:yes    correction:no\")\n",
    "    print(res)"
   ]
  },
  {
   "cell_type": "code",
   "execution_count": 11,
   "metadata": {},
   "outputs": [
    {
     "name": "stdout",
     "output_type": "stream",
     "text": [
      "Correct probabilities:\n",
      "{'00': 0.025, '01': 0.694, '10': 0.192, '11': 0.089}\n",
      "Results: error gates:yes    correction:no\n",
      "{'00': 166, '01': 542, '10': 171, '11': 121}\n",
      "Results: error gates:no     correction:no\n",
      "{'00': 26, '01': 693, '10': 189, '11': 92}\n",
      "Results: error gates:yes    correction:yes\n",
      "{'00': 24, '01': 680, '10': 196, '11': 100}\n"
     ]
    }
   ],
   "source": [
    "state = np.random.randn(4) + np.random.randn(4) * 1j\n",
    "state /= np.linalg.norm(state)\n",
    "probs=[round(np.real(x*np.conj(x)), 3) for x in state]\n",
    "probs_dict=results = {\"00\":probs[0], \"01\":probs[1], \"10\":probs[2], \"11\":probs[3]}\n",
    "print(\"Correct probabilities:\")\n",
    "print(probs_dict)\n",
    "noise_no_correction(state)\n",
    "experiment_part2(state)\n",
    "experiment_part2(state, noise=True)"
   ]
  },
  {
   "cell_type": "markdown",
   "metadata": {},
   "source": [
    "As predicted adding aribrary one quibt error changes the outcome and Shor code can correct this error."
   ]
  }
 ],
 "metadata": {
  "kernelspec": {
   "display_name": "Python 3",
   "language": "python",
   "name": "python3"
  },
  "language_info": {
   "codemirror_mode": {
    "name": "ipython",
    "version": 3
   },
   "file_extension": ".py",
   "mimetype": "text/x-python",
   "name": "python",
   "nbconvert_exporter": "python",
   "pygments_lexer": "ipython3",
   "version": "3.7.6"
  }
 },
 "nbformat": 4,
 "nbformat_minor": 4
}